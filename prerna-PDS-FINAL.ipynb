{
 "cells": [
  {
   "cell_type": "code",
   "execution_count": 1,
   "metadata": {},
   "outputs": [],
   "source": [
    "%matplotlib inline\n",
    "\n",
    "# Some usual imports here\n",
    "import csv as csv \n",
    "import numpy as np\n",
    "import pandas as pd\n",
    "import pandas as pd\n",
    "import pandas as pd\n",
    "import numpy as np\n",
    "from sklearn import preprocessing\n",
    "scaler = preprocessing.StandardScaler()\n",
    "import seaborn as sns  \n",
    "import matplotlib.pyplot as plt\n",
    "from statsmodels.graphics.tsaplots import plot_acf\n",
    "from statsmodels.graphics.tsaplots import plot_pacf\n",
    "\n",
    "\n",
    "#importing data from website, cleaning and merging basis airline carrier and year\n",
    "\n",
    "data=pd.read_excel ('file:///C:/Users/Prerna Prakash Gupta/Desktop/pds/System-Total-Operating-Expenses.xls')\n",
    "data.shape\n",
    "v=data.iloc[0,0]\n",
    "v=str(v)\n",
    "q=data.columns[0]\n",
    "data=data.iloc[2:]\n",
    "data.columns\n",
    "data=data.drop('Unnamed: 1', axis=1)\n",
    "data.iloc[0,0]=q+v\n",
    "data.columns=data.iloc[0]\n",
    "data=data.iloc[2:, :]\n",
    "data1=pd.melt(data, id_vars=data.columns[0], value_vars=data.columns[1:])\n",
    "data1.columns\n",
    "data2=data1.dropna(subset=[data1.columns[0]])\n",
    "colnames=pd.Series(data2.columns)\n",
    "s=colnames[0]\n",
    "colnames[2]=s\n",
    "colnames[0,1]=['airline', 'year']\n",
    "data2.columns=colnames\n",
    "data3= data2.groupby(['airline', 'year'], as_index=False)\n",
    "data41=pd.DataFrame(data3.first())\n",
    "\n",
    "data=pd.read_excel ('file:///C:/Users/Prerna Prakash Gupta/Desktop/pds/SystemPassengerRevenue.xls')\n",
    "data.shape\n",
    "v=data.iloc[0,0]\n",
    "v=str(v)\n",
    "q=data.columns[0]\n",
    "data=data.iloc[2:]\n",
    "data.columns\n",
    "data=data.drop('Unnamed: 1', axis=1)\n",
    "data.iloc[0,0]=q+v\n",
    "data.columns=data.iloc[0]\n",
    "data=data.iloc[2:, :]\n",
    "data1=pd.melt(data, id_vars=data.columns[0], value_vars=data.columns[1:])\n",
    "data1.columns\n",
    "data2=data1.dropna(subset=[data1.columns[0]])\n",
    "colnames=pd.Series(data2.columns)\n",
    "s=colnames[0]\n",
    "colnames[2]=s\n",
    "colnames[0,1]=['airline', 'year']\n",
    "data2.columns=colnames\n",
    "data3= data2.groupby(['airline', 'year'], as_index=False)\n",
    "data42=pd.DataFrame(data3.first())\n",
    "\n",
    "data=pd.read_excel ('file:///C:/Users/Prerna Prakash Gupta/Desktop/pds/System-Passenger-Revenue-per-Available-Seat-Mile-(PRASM).xls')\n",
    "data.shape\n",
    "v=data.iloc[0,0]\n",
    "v=str(v)\n",
    "q=data.columns[0]\n",
    "data=data.iloc[2:]\n",
    "data.columns\n",
    "data=data.drop('Unnamed: 1', axis=1)\n",
    "data.iloc[0,0]=q+v\n",
    "data.columns=data.iloc[0]\n",
    "data=data.iloc[2:, :]\n",
    "data1=pd.melt(data, id_vars=data.columns[0], value_vars=data.columns[1:])\n",
    "data1.columns\n",
    "data2=data1.dropna(subset=[data1.columns[0]])\n",
    "colnames=pd.Series(data2.columns)\n",
    "s=colnames[0]\n",
    "colnames[2]=s\n",
    "colnames[0,1]=['airline', 'year']\n",
    "data2.columns=colnames\n",
    "data3= data2.groupby(['airline', 'year'], as_index=False)\n",
    "data43=pd.DataFrame(data3.first())\n",
    "\n",
    "data=pd.read_excel ('file:///C:/Users/Prerna Prakash Gupta/Desktop/pds/System Passenger Yield (1).xls')\n",
    "data.shape\n",
    "v=data.iloc[0,0]\n",
    "v=str(v)\n",
    "q=data.columns[0]\n",
    "data=data.iloc[2:]\n",
    "data.columns\n",
    "data=data.drop('Unnamed: 1', axis=1)\n",
    "data.iloc[0,0]=q+v\n",
    "data.columns=data.iloc[0]\n",
    "data=data.iloc[2:, :]\n",
    "data1=pd.melt(data, id_vars=data.columns[0], value_vars=data.columns[1:])\n",
    "data1.columns\n",
    "data2=data1.dropna(subset=[data1.columns[0]])\n",
    "colnames=pd.Series(data2.columns)\n",
    "s=colnames[0]\n",
    "colnames[2]=s\n",
    "colnames[0,1]=['airline', 'year']\n",
    "data2.columns=colnames\n",
    "data3= data2.groupby(['airline', 'year'], as_index=False)\n",
    "data44=pd.DataFrame(data3.first())\n",
    "\n",
    "data=pd.read_excel ('file:///C:/Users/Prerna Prakash Gupta/Desktop/pds/System-Total-Operating-Expense-(ex-Fuel and ex-Transport Related).xls')\n",
    "data.shape\n",
    "v=data.iloc[0,0]\n",
    "v=str(v)\n",
    "q=data.columns[0]\n",
    "data=data.iloc[2:]\n",
    "data.columns\n",
    "data=data.drop('Unnamed: 1', axis=1)\n",
    "data.iloc[0,0]=q+v\n",
    "data.columns=data.iloc[0]\n",
    "data=data.iloc[2:, :]\n",
    "data1=pd.melt(data, id_vars=data.columns[0], value_vars=data.columns[1:])\n",
    "data1.columns\n",
    "data2=data1.dropna(subset=[data1.columns[0]])\n",
    "colnames=pd.Series(data2.columns)\n",
    "s=colnames[0]\n",
    "colnames[2]=s\n",
    "colnames[0,1]=['airline', 'year']\n",
    "data2.columns=colnames\n",
    "data3= data2.groupby(['airline', 'year'], as_index=False)\n",
    "data45=pd.DataFrame(data3.first())\n",
    "\n",
    "data=pd.read_excel ('file:///C:/Users/Prerna Prakash Gupta/Desktop/pds/System Total Labor and Related Expenses.xls')\n",
    "data.shape\n",
    "v=data.iloc[0,0]\n",
    "v=str(v)\n",
    "q=data.columns[0]\n",
    "data=data.iloc[2:]\n",
    "data.columns\n",
    "data=data.drop('Unnamed: 1', axis=1)\n",
    "data.iloc[0,0]=q+v\n",
    "data.columns=data.iloc[0]\n",
    "data=data.iloc[2:, :]\n",
    "data1=pd.melt(data, id_vars=data.columns[0], value_vars=data.columns[1:])\n",
    "data1.columns\n",
    "data2=data1.dropna(subset=[data1.columns[0]])\n",
    "colnames=pd.Series(data2.columns)\n",
    "s=colnames[0]\n",
    "colnames[2]=s\n",
    "colnames[0,1]=['airline', 'year']\n",
    "data2.columns=colnames\n",
    "data3= data2.groupby(['airline', 'year'], as_index=False)\n",
    "data46=pd.DataFrame(data3.first())\n",
    "\n",
    "data=pd.read_excel ('file:///C:/Users/Prerna Prakash Gupta/Desktop/pds/System Total Labor and Related Expense per Available Seat Mile (LCASM).xls')\n",
    "data.shape\n",
    "v=data.iloc[0,0]\n",
    "v=str(v)\n",
    "q=data.columns[0]\n",
    "data=data.iloc[2:]\n",
    "data.columns\n",
    "data=data.drop('Unnamed: 1', axis=1)\n",
    "data.iloc[0,0]=q+v\n",
    "data.columns=data.iloc[0]\n",
    "data=data.iloc[2:, :]\n",
    "data1=pd.melt(data, id_vars=data.columns[0], value_vars=data.columns[1:])\n",
    "data1.columns\n",
    "data2=data1.dropna(subset=[data1.columns[0]])\n",
    "colnames=pd.Series(data2.columns)\n",
    "s=colnames[0]\n",
    "colnames[2]=s\n",
    "colnames[0,1]=['airline', 'year']\n",
    "data2.columns=colnames\n",
    "data3= data2.groupby(['airline', 'year'], as_index=False)\n",
    "data47=pd.DataFrame(data3.first())\n",
    "\n",
    "data=pd.read_excel ('file:///C:/Users/Prerna Prakash Gupta/Desktop/pds/Total Fuel Expense.xls')\n",
    "data.shape\n",
    "v=data.iloc[0,0]\n",
    "v=str(v)\n",
    "q=data.columns[0]\n",
    "data=data.iloc[2:]\n",
    "data.columns\n",
    "data=data.drop('Unnamed: 1', axis=1)\n",
    "data.iloc[0,0]=q+v\n",
    "data.columns=data.iloc[0]\n",
    "data=data.iloc[2:, :]\n",
    "data1=pd.melt(data, id_vars=data.columns[0], value_vars=data.columns[1:])\n",
    "data1.columns\n",
    "data2=data1.dropna(subset=[data1.columns[0]])\n",
    "colnames=pd.Series(data2.columns)\n",
    "s=colnames[0]\n",
    "colnames[2]=s\n",
    "colnames[0,1]=['airline', 'year']\n",
    "data2.columns=colnames\n",
    "data3= data2.groupby(['airline', 'year'], as_index=False)\n",
    "data48=pd.DataFrame(data3.first())\n",
    "\n",
    "data=pd.read_excel ('file:///C:/Users/Prerna Prakash Gupta/Desktop/pds/System Total Expense per Available Seat Mile (CASM ex Transport Related).xls')\n",
    "data.shape\n",
    "v=data.iloc[0,0]\n",
    "v=str(v)\n",
    "q=data.columns[0]\n",
    "data=data.iloc[2:]\n",
    "data.columns\n",
    "data=data.drop('Unnamed: 1', axis=1)\n",
    "data.iloc[0,0]=q+v\n",
    "data.columns=data.iloc[0]\n",
    "data=data.iloc[2:, :]\n",
    "data1=pd.melt(data, id_vars=data.columns[0], value_vars=data.columns[1:])\n",
    "data1.columns\n",
    "data2=data1.dropna(subset=[data1.columns[0]])\n",
    "colnames=pd.Series(data2.columns)\n",
    "s=colnames[0]\n",
    "colnames[2]=s\n",
    "colnames[0,1]=['airline', 'year']\n",
    "data2.columns=colnames\n",
    "data3= data2.groupby(['airline', 'year'], as_index=False)\n",
    "data49=pd.DataFrame(data3.first())\n",
    "\n",
    "data=pd.read_excel ('file:///C:/Users/Prerna Prakash Gupta/Desktop/pds/System Total Expense per Available Seat Mile (CASM ex fuel and Transport Related).xls')\n",
    "data.shape\n",
    "v=data.iloc[0,0]\n",
    "v=str(v)\n",
    "q=data.columns[0]\n",
    "data=data.iloc[2:]\n",
    "data.columns\n",
    "data=data.drop('Unnamed: 1', axis=1)\n",
    "data.iloc[0,0]=q+v\n",
    "data.columns=data.iloc[0]\n",
    "data=data.iloc[2:, :]\n",
    "data1=pd.melt(data, id_vars=data.columns[0], value_vars=data.columns[1:])\n",
    "data1.columns\n",
    "data2=data1.dropna(subset=[data1.columns[0]])\n",
    "colnames=pd.Series(data2.columns)\n",
    "s=colnames[0]\n",
    "colnames[2]=s\n",
    "colnames[0,1]=['airline', 'year']\n",
    "data2.columns=colnames\n",
    "data3= data2.groupby(['airline', 'year'], as_index=False)\n",
    "data410=pd.DataFrame(data3.first())\n",
    "\n",
    "data=pd.read_excel ('file:///C:/Users/Prerna Prakash Gupta/Desktop/pds/Fuel Expense per ASM.xls')\n",
    "data.shape\n",
    "v=data.iloc[0,0]\n",
    "v=str(v)\n",
    "q=data.columns[0]\n",
    "data=data.iloc[2:]\n",
    "data.columns\n",
    "data=data.drop('Unnamed: 1', axis=1)\n",
    "data.iloc[0,0]=q+v\n",
    "data.columns=data.iloc[0]\n",
    "data=data.iloc[2:, :]\n",
    "data1=pd.melt(data, id_vars=data.columns[0], value_vars=data.columns[1:])\n",
    "data1.columns\n",
    "data2=data1.dropna(subset=[data1.columns[0]])\n",
    "colnames=pd.Series(data2.columns)\n",
    "s=colnames[0]\n",
    "colnames[2]=s\n",
    "colnames[0,1]=['airline', 'year']\n",
    "data2.columns=colnames\n",
    "data3= data2.groupby(['airline', 'year'], as_index=False)\n",
    "data411=pd.DataFrame(data3.first())\n",
    "\n",
    "data=pd.read_excel ('file:///C:/Users/Prerna Prakash Gupta/Desktop/pds/Total Full-time Employee Equivalents.xls')\n",
    "data.shape\n",
    "v=data.iloc[0,0]\n",
    "v=str(v)\n",
    "q=data.columns[0]\n",
    "data=data.iloc[2:]\n",
    "data.columns\n",
    "data=data.drop('Unnamed: 1', axis=1)\n",
    "data.iloc[0,0]=q+v\n",
    "data.columns=data.iloc[0]\n",
    "data=data.iloc[2:, :]\n",
    "data1=pd.melt(data, id_vars=data.columns[0], value_vars=data.columns[1:])\n",
    "data1.columns\n",
    "data2=data1.dropna(subset=[data1.columns[0]])\n",
    "colnames=pd.Series(data2.columns)\n",
    "s=colnames[0]\n",
    "colnames[2]=s\n",
    "colnames[0,1]=['airline', 'year']\n",
    "data2.columns=colnames\n",
    "data3= data2.groupby(['airline', 'year'], as_index=False)\n",
    "data412=pd.DataFrame(data3.first())\n",
    "\n",
    "\n",
    "data=pd.read_excel ('file:///C:/Users/Prerna Prakash Gupta/Desktop/pds/Total System Available Seat Miles (1).xls')\n",
    "data.shape\n",
    "v=data.iloc[0,0]\n",
    "v=str(v)\n",
    "q=data.columns[0]\n",
    "data=data.iloc[2:]\n",
    "data.columns\n",
    "data=data.drop('Unnamed: 1', axis=1)\n",
    "data.iloc[0,0]=q+v\n",
    "data.columns=data.iloc[0]\n",
    "data=data.iloc[2:, :]\n",
    "data1=pd.melt(data, id_vars=data.columns[0], value_vars=data.columns[1:])\n",
    "data1.columns\n",
    "data2=data1.dropna(subset=[data1.columns[0]])\n",
    "colnames=pd.Series(data2.columns)\n",
    "s=colnames[0]\n",
    "colnames[2]=s\n",
    "colnames[0,1]=['airline', 'year']\n",
    "data2.columns=colnames\n",
    "data3= data2.groupby(['airline', 'year'], as_index=False)\n",
    "data414=pd.DataFrame(data3.first())\n",
    "\n",
    "data=pd.read_excel ('file:///C:/Users/Prerna Prakash Gupta/Desktop/pds/Total System Revenue Passenger Miles.xls')\n",
    "data.shape\n",
    "v=data.iloc[0,0]\n",
    "v=str(v)\n",
    "q=data.columns[0]\n",
    "data=data.iloc[2:]\n",
    "data.columns\n",
    "data=data.drop('Unnamed: 1', axis=1)\n",
    "data.iloc[0,0]=q+v\n",
    "data.columns=data.iloc[0]\n",
    "data=data.iloc[2:, :]\n",
    "data1=pd.melt(data, id_vars=data.columns[0], value_vars=data.columns[1:])\n",
    "data1.columns\n",
    "data2=data1.dropna(subset=[data1.columns[0]])\n",
    "colnames=pd.Series(data2.columns)\n",
    "s=colnames[0]\n",
    "colnames[2]=s\n",
    "colnames[0,1]=['airline', 'year']\n",
    "data2.columns=colnames\n",
    "data3= data2.groupby(['airline', 'year'], as_index=False)\n",
    "data415=pd.DataFrame(data3.first())\n",
    "\n",
    "data=pd.read_excel ('file:///C:/Users/Prerna Prakash Gupta/Desktop/pds/Passenger Revenue -- Total System Operations.xls')\n",
    "data.shape\n",
    "v=data.iloc[0,0]\n",
    "v=str(v)\n",
    "q=data.columns[0]\n",
    "data=data.iloc[2:]\n",
    "data.columns\n",
    "data=data.drop('Unnamed: 1', axis=1)\n",
    "data.iloc[0,0]=q+v\n",
    "data.columns=data.iloc[0]\n",
    "data=data.iloc[2:, :]\n",
    "data1=pd.melt(data, id_vars=data.columns[0], value_vars=data.columns[1:])\n",
    "data1.columns\n",
    "data2=data1.dropna(subset=[data1.columns[0]])\n",
    "colnames=pd.Series(data2.columns)\n",
    "s=colnames[0]\n",
    "colnames[2]=s\n",
    "colnames[0,1]=['airline', 'year']\n",
    "data2.columns=colnames\n",
    "data3= data2.groupby(['airline', 'year'], as_index=False)\n",
    "data413=pd.DataFrame(data3.first())\n",
    "\n",
    "data=pd.read_excel ('file:///C:/Users/Prerna Prakash Gupta/Desktop/pds/Total System Load Factor.xls')\n",
    "data.shape\n",
    "v=data.iloc[0,0]\n",
    "v=str(v)\n",
    "q=data.columns[0]\n",
    "data=data.iloc[2:]\n",
    "data.columns\n",
    "data=data.drop('Unnamed: 1', axis=1)\n",
    "data.iloc[0,0]=q+v\n",
    "data.columns=data.iloc[0]\n",
    "data=data.iloc[2:, :]\n",
    "data1=pd.melt(data, id_vars=data.columns[0], value_vars=data.columns[1:])\n",
    "data1.columns\n",
    "data2=data1.dropna(subset=[data1.columns[0]])\n",
    "colnames=pd.Series(data2.columns)\n",
    "s=colnames[0]\n",
    "colnames[2]=s\n",
    "colnames[0,1]=['airline', 'year']\n",
    "data2.columns=colnames\n",
    "data3= data2.groupby(['airline', 'year'], as_index=False)\n",
    "data416=pd.DataFrame(data3.first())\n",
    "\n",
    "data=pd.read_excel ('file:///C:/Users/Prerna Prakash Gupta/Desktop/pds/Total System Passenger Revenue per ASM.xls')\n",
    "data.shape\n",
    "v=data.iloc[0,0]\n",
    "v=str(v)\n",
    "q=data.columns[0]\n",
    "data=data.iloc[2:]\n",
    "data.columns\n",
    "data=data.drop('Unnamed: 1', axis=1)\n",
    "data.iloc[0,0]=q+v\n",
    "data.columns=data.iloc[0]\n",
    "data=data.iloc[2:, :]\n",
    "data1=pd.melt(data, id_vars=data.columns[0], value_vars=data.columns[1:])\n",
    "data1.columns\n",
    "data2=data1.dropna(subset=[data1.columns[0]])\n",
    "colnames=pd.Series(data2.columns)\n",
    "s=colnames[0]\n",
    "colnames[2]=s\n",
    "colnames[0,1]=['airline', 'year']\n",
    "data2.columns=colnames\n",
    "data3= data2.groupby(['airline', 'year'], as_index=False)\n",
    "data417=pd.DataFrame(data3.first())\n",
    "\n",
    "data=pd.read_excel ('file:///C:/Users/Prerna Prakash Gupta/Desktop/pds/System-Total-Operating-Revenue-(1).xls')\n",
    "data.shape\n",
    "v=data.iloc[0,0]\n",
    "v=str(v)\n",
    "q=data.columns[0]\n",
    "data=data.iloc[2:]\n",
    "data.columns\n",
    "data=data.drop('Unnamed: 1', axis=1)\n",
    "data.iloc[0,0]=q+v\n",
    "data.columns=data.iloc[0]\n",
    "data=data.iloc[2:, :]\n",
    "data1=pd.melt(data, id_vars=data.columns[0], value_vars=data.columns[1:])\n",
    "data1.columns\n",
    "data2=data1.dropna(subset=[data1.columns[0]])\n",
    "colnames=pd.Series(data2.columns)\n",
    "s=colnames[0]\n",
    "colnames[2]=s\n",
    "colnames[0,1]=['airline', 'year']\n",
    "data2.columns=colnames\n",
    "data3= data2.groupby(['airline', 'year'], as_index=False)\n",
    "data418=pd.DataFrame(data3.first())\n",
    "type(data42)\n",
    "s=[data42, data43, data44, data45, data46, data47, data48, data49, data410, data411, data412, data413, data414, data415, data416, data417, data418]\n"
   ]
  },
  {
   "cell_type": "code",
   "execution_count": 3,
   "metadata": {},
   "outputs": [],
   "source": [
    "s=[data42, data43, data44, data45, data46, data47, data48, data49, data410, data411, data412, data413, data414, data415, data416, data417, data418]\n",
    "for i in s:\n",
    "    data41=pd.merge(i, on=['airline', 'year'], right=data41)"
   ]
  },
  {
   "cell_type": "code",
   "execution_count": 4,
   "metadata": {},
   "outputs": [
    {
     "data": {
      "text/html": [
       "<div>\n",
       "<style scoped>\n",
       "    .dataframe tbody tr th:only-of-type {\n",
       "        vertical-align: middle;\n",
       "    }\n",
       "\n",
       "    .dataframe tbody tr th {\n",
       "        vertical-align: top;\n",
       "    }\n",
       "\n",
       "    .dataframe thead th {\n",
       "        text-align: right;\n",
       "    }\n",
       "</style>\n",
       "<table border=\"1\" class=\"dataframe\">\n",
       "  <thead>\n",
       "    <tr style=\"text-align: right;\">\n",
       "      <th></th>\n",
       "      <th>airline</th>\n",
       "      <th>year</th>\n",
       "      <th>System Total Operating Revenue$ Billions_x</th>\n",
       "      <th>Total System Passenger Revenue per ASMCents per Available Seat Mile_x</th>\n",
       "      <th>Total System Load FactorPercentage_x</th>\n",
       "      <th>Total System Revenue Passenger MilesMillions_x</th>\n",
       "      <th>Total System Available Seat MilesMillions_x</th>\n",
       "      <th>Passenger Revenue -- Total System OperationsMillions_x</th>\n",
       "      <th>Total Full-time Employee Equivalentsnan_x</th>\n",
       "      <th>Fuel Expense per ASM$US Dollars per Available Seat Mile_x</th>\n",
       "      <th>...</th>\n",
       "      <th>System Total Expense per Available Seat Mile (CASM ex fuel and Transport Related)Cents per Available Seat Mile_y</th>\n",
       "      <th>System Total Expense per Available Seat Mile (CASM ex-Transport Related)Cents per Available Seat Mile_y</th>\n",
       "      <th>Total Fuel Expense$ Million_y</th>\n",
       "      <th>System Total Labor and Related Expense per Available Seat Mile (LCASM)Cents per Available Seat Mile_y</th>\n",
       "      <th>System Total Labor and Related Expenses$ Billions_y</th>\n",
       "      <th>System Total Operating Expense (ex-Fuel and ex-Transport Related)$ Million_y</th>\n",
       "      <th>System Passenger YieldCents per Revenue Passenger Mile_y</th>\n",
       "      <th>System Passenger Revenue per Available Seat Mile (PRASM)Cents per Available Seat Mile_y</th>\n",
       "      <th>System Passenger Revenue$ Billions_y</th>\n",
       "      <th>System Total Operating Expenses$ Billions</th>\n",
       "    </tr>\n",
       "  </thead>\n",
       "  <tbody>\n",
       "    <tr>\n",
       "      <td>0</td>\n",
       "      <td>-- sub Other</td>\n",
       "      <td>1995.0</td>\n",
       "      <td>1.563394</td>\n",
       "      <td>6.783066</td>\n",
       "      <td>0.661941</td>\n",
       "      <td>12730.429000</td>\n",
       "      <td>19231.958000</td>\n",
       "      <td>1304.51647</td>\n",
       "      <td>9414.0</td>\n",
       "      <td>0.010026</td>\n",
       "      <td>...</td>\n",
       "      <td>6.615960</td>\n",
       "      <td>7.618534</td>\n",
       "      <td>192.81463</td>\n",
       "      <td>2.519877</td>\n",
       "      <td>0.484622</td>\n",
       "      <td>1272.37859</td>\n",
       "      <td>10.247231</td>\n",
       "      <td>6.783066</td>\n",
       "      <td>1.304516</td>\n",
       "      <td>1.488563</td>\n",
       "    </tr>\n",
       "    <tr>\n",
       "      <td>1</td>\n",
       "      <td>-- sub Other</td>\n",
       "      <td>1996.0</td>\n",
       "      <td>1.753836</td>\n",
       "      <td>7.122257</td>\n",
       "      <td>0.683445</td>\n",
       "      <td>14258.564000</td>\n",
       "      <td>20862.795000</td>\n",
       "      <td>1485.90188</td>\n",
       "      <td>10401.0</td>\n",
       "      <td>0.011784</td>\n",
       "      <td>...</td>\n",
       "      <td>6.798958</td>\n",
       "      <td>7.977351</td>\n",
       "      <td>245.84577</td>\n",
       "      <td>2.564755</td>\n",
       "      <td>0.535080</td>\n",
       "      <td>1418.45266</td>\n",
       "      <td>10.421119</td>\n",
       "      <td>7.122257</td>\n",
       "      <td>1.485902</td>\n",
       "      <td>1.674655</td>\n",
       "    </tr>\n",
       "    <tr>\n",
       "      <td>2</td>\n",
       "      <td>-- sub Other</td>\n",
       "      <td>1997.0</td>\n",
       "      <td>1.942731</td>\n",
       "      <td>7.523072</td>\n",
       "      <td>0.699613</td>\n",
       "      <td>15366.111000</td>\n",
       "      <td>21963.730000</td>\n",
       "      <td>1652.34726</td>\n",
       "      <td>11270.0</td>\n",
       "      <td>0.011210</td>\n",
       "      <td>...</td>\n",
       "      <td>7.047778</td>\n",
       "      <td>8.168806</td>\n",
       "      <td>246.21948</td>\n",
       "      <td>2.740701</td>\n",
       "      <td>0.601960</td>\n",
       "      <td>1547.95504</td>\n",
       "      <td>10.753191</td>\n",
       "      <td>7.523072</td>\n",
       "      <td>1.652347</td>\n",
       "      <td>1.805984</td>\n",
       "    </tr>\n",
       "    <tr>\n",
       "      <td>3</td>\n",
       "      <td>-- sub Other</td>\n",
       "      <td>1998.0</td>\n",
       "      <td>2.138254</td>\n",
       "      <td>7.694060</td>\n",
       "      <td>0.696924</td>\n",
       "      <td>16678.559000</td>\n",
       "      <td>23931.662000</td>\n",
       "      <td>1841.31635</td>\n",
       "      <td>11053.0</td>\n",
       "      <td>0.008228</td>\n",
       "      <td>...</td>\n",
       "      <td>7.119370</td>\n",
       "      <td>7.942171</td>\n",
       "      <td>196.91000</td>\n",
       "      <td>2.810028</td>\n",
       "      <td>0.672486</td>\n",
       "      <td>1703.78352</td>\n",
       "      <td>11.040021</td>\n",
       "      <td>7.694060</td>\n",
       "      <td>1.841316</td>\n",
       "      <td>1.918309</td>\n",
       "    </tr>\n",
       "    <tr>\n",
       "      <td>4</td>\n",
       "      <td>-- sub Other</td>\n",
       "      <td>1999.0</td>\n",
       "      <td>2.411563</td>\n",
       "      <td>7.832494</td>\n",
       "      <td>0.708016</td>\n",
       "      <td>18915.935000</td>\n",
       "      <td>26716.808000</td>\n",
       "      <td>2092.59227</td>\n",
       "      <td>11435.0</td>\n",
       "      <td>0.010726</td>\n",
       "      <td>...</td>\n",
       "      <td>7.393235</td>\n",
       "      <td>8.465824</td>\n",
       "      <td>286.56153</td>\n",
       "      <td>2.863851</td>\n",
       "      <td>0.765130</td>\n",
       "      <td>1975.23631</td>\n",
       "      <td>11.062590</td>\n",
       "      <td>7.832494</td>\n",
       "      <td>2.092592</td>\n",
       "      <td>2.280398</td>\n",
       "    </tr>\n",
       "    <tr>\n",
       "      <td>...</td>\n",
       "      <td>...</td>\n",
       "      <td>...</td>\n",
       "      <td>...</td>\n",
       "      <td>...</td>\n",
       "      <td>...</td>\n",
       "      <td>...</td>\n",
       "      <td>...</td>\n",
       "      <td>...</td>\n",
       "      <td>...</td>\n",
       "      <td>...</td>\n",
       "      <td>...</td>\n",
       "      <td>...</td>\n",
       "      <td>...</td>\n",
       "      <td>...</td>\n",
       "      <td>...</td>\n",
       "      <td>...</td>\n",
       "      <td>...</td>\n",
       "      <td>...</td>\n",
       "      <td>...</td>\n",
       "      <td>...</td>\n",
       "      <td>...</td>\n",
       "    </tr>\n",
       "    <tr>\n",
       "      <td>451</td>\n",
       "      <td>jetBlue</td>\n",
       "      <td>2014.0</td>\n",
       "      <td>5.816877</td>\n",
       "      <td>11.866216</td>\n",
       "      <td>0.840313</td>\n",
       "      <td>37837.714691</td>\n",
       "      <td>45028.134741</td>\n",
       "      <td>5343.13551</td>\n",
       "      <td>13387.0</td>\n",
       "      <td>0.041272</td>\n",
       "      <td>...</td>\n",
       "      <td>7.611021</td>\n",
       "      <td>11.738265</td>\n",
       "      <td>1858.42120</td>\n",
       "      <td>3.046634</td>\n",
       "      <td>1.371842</td>\n",
       "      <td>3427.10058</td>\n",
       "      <td>14.121190</td>\n",
       "      <td>11.866216</td>\n",
       "      <td>5.343136</td>\n",
       "      <td>5.308982</td>\n",
       "    </tr>\n",
       "    <tr>\n",
       "      <td>452</td>\n",
       "      <td>jetBlue</td>\n",
       "      <td>2015.0</td>\n",
       "      <td>6.416127</td>\n",
       "      <td>11.942202</td>\n",
       "      <td>0.846065</td>\n",
       "      <td>41750.772814</td>\n",
       "      <td>49347.006843</td>\n",
       "      <td>5893.11913</td>\n",
       "      <td>14432.0</td>\n",
       "      <td>0.026386</td>\n",
       "      <td>...</td>\n",
       "      <td>7.924326</td>\n",
       "      <td>10.562881</td>\n",
       "      <td>1302.04810</td>\n",
       "      <td>3.298618</td>\n",
       "      <td>1.627769</td>\n",
       "      <td>3910.41774</td>\n",
       "      <td>14.114994</td>\n",
       "      <td>11.942202</td>\n",
       "      <td>5.893119</td>\n",
       "      <td>5.217767</td>\n",
       "    </tr>\n",
       "    <tr>\n",
       "      <td>453</td>\n",
       "      <td>jetBlue</td>\n",
       "      <td>2016.0</td>\n",
       "      <td>6.632433</td>\n",
       "      <td>11.196018</td>\n",
       "      <td>0.850484</td>\n",
       "      <td>45675.374747</td>\n",
       "      <td>53705.129461</td>\n",
       "      <td>6012.83609</td>\n",
       "      <td>15611.0</td>\n",
       "      <td>0.019205</td>\n",
       "      <td>...</td>\n",
       "      <td>7.989571</td>\n",
       "      <td>9.910119</td>\n",
       "      <td>1031.43258</td>\n",
       "      <td>3.349556</td>\n",
       "      <td>1.798884</td>\n",
       "      <td>4290.80953</td>\n",
       "      <td>13.164284</td>\n",
       "      <td>11.196018</td>\n",
       "      <td>6.012836</td>\n",
       "      <td>5.324318</td>\n",
       "    </tr>\n",
       "    <tr>\n",
       "      <td>454</td>\n",
       "      <td>jetBlue</td>\n",
       "      <td>2017.0</td>\n",
       "      <td>7.015326</td>\n",
       "      <td>11.221808</td>\n",
       "      <td>0.843145</td>\n",
       "      <td>47249.316280</td>\n",
       "      <td>56039.339070</td>\n",
       "      <td>6288.62729</td>\n",
       "      <td>16998.0</td>\n",
       "      <td>0.023401</td>\n",
       "      <td>...</td>\n",
       "      <td>8.402669</td>\n",
       "      <td>10.742817</td>\n",
       "      <td>1311.40321</td>\n",
       "      <td>3.582607</td>\n",
       "      <td>2.007670</td>\n",
       "      <td>4708.80028</td>\n",
       "      <td>13.309457</td>\n",
       "      <td>11.221808</td>\n",
       "      <td>6.288627</td>\n",
       "      <td>6.021964</td>\n",
       "    </tr>\n",
       "    <tr>\n",
       "      <td>455</td>\n",
       "      <td>jetBlue</td>\n",
       "      <td>2018.0</td>\n",
       "      <td>7.658451</td>\n",
       "      <td>11.351145</td>\n",
       "      <td>0.841245</td>\n",
       "      <td>50819.076170</td>\n",
       "      <td>60409.377776</td>\n",
       "      <td>6857.15614</td>\n",
       "      <td>17681.0</td>\n",
       "      <td>0.030357</td>\n",
       "      <td>...</td>\n",
       "      <td>8.561061</td>\n",
       "      <td>11.596713</td>\n",
       "      <td>1833.81855</td>\n",
       "      <td>3.639041</td>\n",
       "      <td>2.198322</td>\n",
       "      <td>5171.68361</td>\n",
       "      <td>13.493272</td>\n",
       "      <td>11.351145</td>\n",
       "      <td>6.857156</td>\n",
       "      <td>7.008072</td>\n",
       "    </tr>\n",
       "  </tbody>\n",
       "</table>\n",
       "<p>456 rows × 37 columns</p>\n",
       "</div>"
      ],
      "text/plain": [
       "           airline    year  System Total Operating Revenue$ Billions_x  \\\n",
       "0     -- sub Other  1995.0                                    1.563394   \n",
       "1     -- sub Other  1996.0                                    1.753836   \n",
       "2     -- sub Other  1997.0                                    1.942731   \n",
       "3     -- sub Other  1998.0                                    2.138254   \n",
       "4     -- sub Other  1999.0                                    2.411563   \n",
       "..             ...     ...                                         ...   \n",
       "451        jetBlue  2014.0                                    5.816877   \n",
       "452        jetBlue  2015.0                                    6.416127   \n",
       "453        jetBlue  2016.0                                    6.632433   \n",
       "454        jetBlue  2017.0                                    7.015326   \n",
       "455        jetBlue  2018.0                                    7.658451   \n",
       "\n",
       "     Total System Passenger Revenue per ASMCents per Available Seat Mile_x  \\\n",
       "0                                             6.783066                       \n",
       "1                                             7.122257                       \n",
       "2                                             7.523072                       \n",
       "3                                             7.694060                       \n",
       "4                                             7.832494                       \n",
       "..                                                 ...                       \n",
       "451                                          11.866216                       \n",
       "452                                          11.942202                       \n",
       "453                                          11.196018                       \n",
       "454                                          11.221808                       \n",
       "455                                          11.351145                       \n",
       "\n",
       "     Total System Load FactorPercentage_x  \\\n",
       "0                                0.661941   \n",
       "1                                0.683445   \n",
       "2                                0.699613   \n",
       "3                                0.696924   \n",
       "4                                0.708016   \n",
       "..                                    ...   \n",
       "451                              0.840313   \n",
       "452                              0.846065   \n",
       "453                              0.850484   \n",
       "454                              0.843145   \n",
       "455                              0.841245   \n",
       "\n",
       "     Total System Revenue Passenger MilesMillions_x  \\\n",
       "0                                      12730.429000   \n",
       "1                                      14258.564000   \n",
       "2                                      15366.111000   \n",
       "3                                      16678.559000   \n",
       "4                                      18915.935000   \n",
       "..                                              ...   \n",
       "451                                    37837.714691   \n",
       "452                                    41750.772814   \n",
       "453                                    45675.374747   \n",
       "454                                    47249.316280   \n",
       "455                                    50819.076170   \n",
       "\n",
       "     Total System Available Seat MilesMillions_x  \\\n",
       "0                                   19231.958000   \n",
       "1                                   20862.795000   \n",
       "2                                   21963.730000   \n",
       "3                                   23931.662000   \n",
       "4                                   26716.808000   \n",
       "..                                           ...   \n",
       "451                                 45028.134741   \n",
       "452                                 49347.006843   \n",
       "453                                 53705.129461   \n",
       "454                                 56039.339070   \n",
       "455                                 60409.377776   \n",
       "\n",
       "     Passenger Revenue -- Total System OperationsMillions_x  \\\n",
       "0                                           1304.51647        \n",
       "1                                           1485.90188        \n",
       "2                                           1652.34726        \n",
       "3                                           1841.31635        \n",
       "4                                           2092.59227        \n",
       "..                                                 ...        \n",
       "451                                         5343.13551        \n",
       "452                                         5893.11913        \n",
       "453                                         6012.83609        \n",
       "454                                         6288.62729        \n",
       "455                                         6857.15614        \n",
       "\n",
       "     Total Full-time Employee Equivalentsnan_x  \\\n",
       "0                                       9414.0   \n",
       "1                                      10401.0   \n",
       "2                                      11270.0   \n",
       "3                                      11053.0   \n",
       "4                                      11435.0   \n",
       "..                                         ...   \n",
       "451                                    13387.0   \n",
       "452                                    14432.0   \n",
       "453                                    15611.0   \n",
       "454                                    16998.0   \n",
       "455                                    17681.0   \n",
       "\n",
       "     Fuel Expense per ASM$US Dollars per Available Seat Mile_x  ...  \\\n",
       "0                                             0.010026          ...   \n",
       "1                                             0.011784          ...   \n",
       "2                                             0.011210          ...   \n",
       "3                                             0.008228          ...   \n",
       "4                                             0.010726          ...   \n",
       "..                                                 ...          ...   \n",
       "451                                           0.041272          ...   \n",
       "452                                           0.026386          ...   \n",
       "453                                           0.019205          ...   \n",
       "454                                           0.023401          ...   \n",
       "455                                           0.030357          ...   \n",
       "\n",
       "     System Total Expense per Available Seat Mile (CASM ex fuel and Transport Related)Cents per Available Seat Mile_y  \\\n",
       "0                                             6.615960                                                                  \n",
       "1                                             6.798958                                                                  \n",
       "2                                             7.047778                                                                  \n",
       "3                                             7.119370                                                                  \n",
       "4                                             7.393235                                                                  \n",
       "..                                                 ...                                                                  \n",
       "451                                           7.611021                                                                  \n",
       "452                                           7.924326                                                                  \n",
       "453                                           7.989571                                                                  \n",
       "454                                           8.402669                                                                  \n",
       "455                                           8.561061                                                                  \n",
       "\n",
       "     System Total Expense per Available Seat Mile (CASM ex-Transport Related)Cents per Available Seat Mile_y  \\\n",
       "0                                             7.618534                                                         \n",
       "1                                             7.977351                                                         \n",
       "2                                             8.168806                                                         \n",
       "3                                             7.942171                                                         \n",
       "4                                             8.465824                                                         \n",
       "..                                                 ...                                                         \n",
       "451                                          11.738265                                                         \n",
       "452                                          10.562881                                                         \n",
       "453                                           9.910119                                                         \n",
       "454                                          10.742817                                                         \n",
       "455                                          11.596713                                                         \n",
       "\n",
       "     Total Fuel Expense$ Million_y  \\\n",
       "0                        192.81463   \n",
       "1                        245.84577   \n",
       "2                        246.21948   \n",
       "3                        196.91000   \n",
       "4                        286.56153   \n",
       "..                             ...   \n",
       "451                     1858.42120   \n",
       "452                     1302.04810   \n",
       "453                     1031.43258   \n",
       "454                     1311.40321   \n",
       "455                     1833.81855   \n",
       "\n",
       "     System Total Labor and Related Expense per Available Seat Mile (LCASM)Cents per Available Seat Mile_y  \\\n",
       "0                                             2.519877                                                       \n",
       "1                                             2.564755                                                       \n",
       "2                                             2.740701                                                       \n",
       "3                                             2.810028                                                       \n",
       "4                                             2.863851                                                       \n",
       "..                                                 ...                                                       \n",
       "451                                           3.046634                                                       \n",
       "452                                           3.298618                                                       \n",
       "453                                           3.349556                                                       \n",
       "454                                           3.582607                                                       \n",
       "455                                           3.639041                                                       \n",
       "\n",
       "     System Total Labor and Related Expenses$ Billions_y  \\\n",
       "0                                             0.484622     \n",
       "1                                             0.535080     \n",
       "2                                             0.601960     \n",
       "3                                             0.672486     \n",
       "4                                             0.765130     \n",
       "..                                                 ...     \n",
       "451                                           1.371842     \n",
       "452                                           1.627769     \n",
       "453                                           1.798884     \n",
       "454                                           2.007670     \n",
       "455                                           2.198322     \n",
       "\n",
       "     System Total Operating Expense (ex-Fuel and ex-Transport Related)$ Million_y  \\\n",
       "0                                           1272.37859                              \n",
       "1                                           1418.45266                              \n",
       "2                                           1547.95504                              \n",
       "3                                           1703.78352                              \n",
       "4                                           1975.23631                              \n",
       "..                                                 ...                              \n",
       "451                                         3427.10058                              \n",
       "452                                         3910.41774                              \n",
       "453                                         4290.80953                              \n",
       "454                                         4708.80028                              \n",
       "455                                         5171.68361                              \n",
       "\n",
       "     System Passenger YieldCents per Revenue Passenger Mile_y  \\\n",
       "0                                            10.247231          \n",
       "1                                            10.421119          \n",
       "2                                            10.753191          \n",
       "3                                            11.040021          \n",
       "4                                            11.062590          \n",
       "..                                                 ...          \n",
       "451                                          14.121190          \n",
       "452                                          14.114994          \n",
       "453                                          13.164284          \n",
       "454                                          13.309457          \n",
       "455                                          13.493272          \n",
       "\n",
       "     System Passenger Revenue per Available Seat Mile (PRASM)Cents per Available Seat Mile_y  \\\n",
       "0                                             6.783066                                         \n",
       "1                                             7.122257                                         \n",
       "2                                             7.523072                                         \n",
       "3                                             7.694060                                         \n",
       "4                                             7.832494                                         \n",
       "..                                                 ...                                         \n",
       "451                                          11.866216                                         \n",
       "452                                          11.942202                                         \n",
       "453                                          11.196018                                         \n",
       "454                                          11.221808                                         \n",
       "455                                          11.351145                                         \n",
       "\n",
       "     System Passenger Revenue$ Billions_y  \\\n",
       "0                                1.304516   \n",
       "1                                1.485902   \n",
       "2                                1.652347   \n",
       "3                                1.841316   \n",
       "4                                2.092592   \n",
       "..                                    ...   \n",
       "451                              5.343136   \n",
       "452                              5.893119   \n",
       "453                              6.012836   \n",
       "454                              6.288627   \n",
       "455                              6.857156   \n",
       "\n",
       "     System Total Operating Expenses$ Billions  \n",
       "0                                     1.488563  \n",
       "1                                     1.674655  \n",
       "2                                     1.805984  \n",
       "3                                     1.918309  \n",
       "4                                     2.280398  \n",
       "..                                         ...  \n",
       "451                                   5.308982  \n",
       "452                                   5.217767  \n",
       "453                                   5.324318  \n",
       "454                                   6.021964  \n",
       "455                                   7.008072  \n",
       "\n",
       "[456 rows x 37 columns]"
      ]
     },
     "execution_count": 4,
     "metadata": {},
     "output_type": "execute_result"
    }
   ],
   "source": [
    "data41"
   ]
  },
  {
   "cell_type": "code",
   "execution_count": 5,
   "metadata": {},
   "outputs": [
    {
     "name": "stdout",
     "output_type": "stream",
     "text": [
      "airline                                                                                   0\n",
      "year                                                                                      0\n",
      "System Total Operating Revenue$ Billions                                                 60\n",
      "Total System Load FactorPercentage                                                       56\n",
      "Total System Available Seat MilesMillions                                                56\n",
      "Total Full-time Employee Equivalentsnan                                                  62\n",
      "Fuel Expense per ASM$US Dollars per Available Seat Mile                                  66\n",
      "Total Fuel Expense$ Million                                                              66\n",
      "System Total Labor and Related Expenses$ Billions                                        60\n",
      "System Total Operating Expense (ex-Fuel and ex-Transport Related)$ Million               60\n",
      "System Passenger YieldCents per Revenue Passenger Mile                                   60\n",
      "System Passenger Revenue per Available Seat Mile (PRASM)Cents per Available Seat Mile    60\n",
      "System Total Operating Expenses$ Billions                                                60\n",
      "us                                                                                        0\n",
      "revenue                                                                                  60\n",
      "dtype: int64\n",
      "airline                                                                                  0\n",
      "year                                                                                     0\n",
      "System Total Operating Revenue$ Billions                                                 0\n",
      "Total System Load FactorPercentage                                                       0\n",
      "Total System Available Seat MilesMillions                                                0\n",
      "Total Full-time Employee Equivalentsnan                                                  0\n",
      "Fuel Expense per ASM$US Dollars per Available Seat Mile                                  0\n",
      "Total Fuel Expense$ Million                                                              0\n",
      "System Total Labor and Related Expenses$ Billions                                        0\n",
      "System Total Operating Expense (ex-Fuel and ex-Transport Related)$ Million               0\n",
      "System Passenger YieldCents per Revenue Passenger Mile                                   0\n",
      "System Passenger Revenue per Available Seat Mile (PRASM)Cents per Available Seat Mile    0\n",
      "System Total Operating Expenses$ Billions                                                0\n",
      "us                                                                                       0\n",
      "revenue                                                                                  0\n",
      "dtype: int64\n"
     ]
    }
   ],
   "source": [
    "# -*- coding: utf-8 -*-\n",
    "\"\"\"\n",
    "Created on Wed Dec 11 22:23:28 2019\n",
    "\n",
    "@author: Prerna Prakash Gupta\n",
    "\"\"\"\n",
    "\n",
    "from dateutil.parser import parse \n",
    "import matplotlib as mpl\n",
    "import matplotlib.pyplot as plt\n",
    "import seaborn as sns\n",
    "import numpy as np\n",
    "import pandas as pd\n",
    "import pandas as pd\n",
    "import numpy as np\n",
    "from patsy import dmatrices\n",
    "import statsmodels.api as sm\n",
    "from statsmodels.stats.outliers_influence import variance_inflation_factor\n",
    "import pandas as pd\n",
    "import numpy as np\n",
    "from sklearn import preprocessing\n",
    "scaler = preprocessing.StandardScaler()\n",
    "import seaborn as sns  \n",
    "import matplotlib.pyplot as plt\n",
    "from statsmodels.graphics.tsaplots import plot_acf\n",
    "from statsmodels.graphics.tsaplots import plot_pacf\n",
    "\n",
    "# Import as Dataframe\n",
    "\n",
    "data01=pd.read_csv(r\"C:\\Users\\Prerna Prakash Gupta\\Desktop\\pds\\revv.csv\")\n",
    "data01=data01.replace(0, np.nan) \n",
    "#when the data was studied, many airlines reported revenue of 0, upon further investigation it was reveled that 0 revenue indicated that airlines had been shutdown. 0 was replaced by nan and missing values removed\n",
    "data01.shape\n",
    "data01=pd.DataFrame(data01)\n",
    "print(data01.shape[0]-data01.count())\n",
    "data01=data01.dropna()\n",
    "print(data01.shape[0]-data01.count())\n",
    "data01.columns\n",
    "w=data01['airline'].unique()\n"
   ]
  },
  {
   "cell_type": "code",
   "execution_count": 6,
   "metadata": {},
   "outputs": [
    {
     "name": "stdout",
     "output_type": "stream",
     "text": [
      "(11, 15)\n",
      "(10, 15)\n",
      "(24, 15)\n",
      "(23, 15)\n",
      "(23, 15)\n",
      "(22, 15)\n",
      "(15, 15)\n",
      "(14, 15)\n"
     ]
    },
    {
     "data": {
      "text/plain": [
       "15"
      ]
     },
     "execution_count": 6,
     "metadata": {},
     "output_type": "execute_result"
    },
    {
     "data": {
      "text/plain": [
       "<Figure size 432x288 with 0 Axes>"
      ]
     },
     "metadata": {},
     "output_type": "display_data"
    },
    {
     "data": {
      "text/plain": [
       "<Figure size 432x288 with 0 Axes>"
      ]
     },
     "metadata": {},
     "output_type": "display_data"
    },
    {
     "data": {
      "text/plain": [
       "<Figure size 432x288 with 0 Axes>"
      ]
     },
     "metadata": {},
     "output_type": "display_data"
    },
    {
     "data": {
      "text/plain": [
       "<Figure size 432x288 with 0 Axes>"
      ]
     },
     "metadata": {},
     "output_type": "display_data"
    }
   ],
   "source": [
    "#outliers were removed from the data\n",
    "s=[]\n",
    "for j in w:\n",
    "    data=data01[data01.airline == j]\n",
    "    for i in data.index:\n",
    "        if abs(data.loc[i, 'System Total Operating Revenue$ Billions']-data.loc[:, 'System Total Operating Revenue$ Billions'].mean())>2*data.loc[:, 'System Total Operating Revenue$ Billions'].std():\n",
    "            s.append(i)\n",
    "            print(data.shape)\n",
    "            fig=plt.figure()\n",
    "            data=data.drop(i)\n",
    "            print(data.shape)\n",
    "\n",
    "            \n",
    "data02=data01.drop(s)\n",
    "len(data02.columns)"
   ]
  },
  {
   "cell_type": "code",
   "execution_count": 7,
   "metadata": {},
   "outputs": [
    {
     "name": "stderr",
     "output_type": "stream",
     "text": [
      "C:\\Users\\Prerna Prakash Gupta\\Anaconda3\\lib\\site-packages\\ipykernel_launcher.py:7: SettingWithCopyWarning: \n",
      "A value is trying to be set on a copy of a slice from a DataFrame.\n",
      "Try using .loc[row_indexer,col_indexer] = value instead\n",
      "\n",
      "See the caveats in the documentation: http://pandas.pydata.org/pandas-docs/stable/user_guide/indexing.html#returning-a-view-versus-a-copy\n",
      "  import sys\n"
     ]
    },
    {
     "data": {
      "text/plain": [
       "<matplotlib.legend.Legend at 0x1f5d751ce80>"
      ]
     },
     "execution_count": 7,
     "metadata": {},
     "output_type": "execute_result"
    },
    {
     "data": {
      "image/png": "[encoded data removed]",
      "text/plain": [
       "<Figure size 432x288 with 1 Axes>"
      ]
     },
     "metadata": {
      "needs_background": "light"
     },
     "output_type": "display_data"
    }
   ],
   "source": [
    "#graph of individual  heterogeniety across airlines in total operating revenue plotted\n",
    "data02.airline.unique()\n",
    "data02.columns \n",
    "q=[]\n",
    "for j in w:\n",
    "    data=data02[data02.airline == j]\n",
    "    data['mean']=data.loc[:,'System Total Operating Revenue$ Billions'].mean()\n",
    "    q.append(data)\n",
    "data06=pd.concat(q)\n",
    "plt.scatter(data06['airline'], data06['System Total Operating Revenue$ Billions'], c='red' )\n",
    "plt.plot(data06['airline'], data06['mean'], c='green', marker='o' )\n",
    "plt.xticks(rotation=90)\n",
    "plt.legend(['total operating revenue (USDbn)', 'mean of revenue across years'])\n"
   ]
  },
  {
   "cell_type": "code",
   "execution_count": 9,
   "metadata": {},
   "outputs": [
    {
     "data": {
      "text/plain": [
       "<matplotlib.axes._subplots.AxesSubplot at 0x1f5d82ffe48>"
      ]
     },
     "execution_count": 9,
     "metadata": {},
     "output_type": "execute_result"
    },
    {
     "data": {
      "image/png": "[encoded data removed]",
      "text/plain": [
       "<Figure size 432x288 with 1 Axes>"
      ]
     },
     "metadata": {
      "needs_background": "light"
     },
     "output_type": "display_data"
    }
   ],
   "source": [
    "#evidence of multimodal distribution in dependent variable -aircraft revenue\n",
    "sns.distplot(data02.loc[:, 'System Total Operating Revenue$ Billions'])\n"
   ]
  },
  {
   "cell_type": "code",
   "execution_count": 10,
   "metadata": {},
   "outputs": [
    {
     "name": "stdout",
     "output_type": "stream",
     "text": [
      "AirTran\n"
     ]
    },
    {
     "data": {
      "text/plain": [
       "<Figure size 432x288 with 0 Axes>"
      ]
     },
     "metadata": {},
     "output_type": "display_data"
    },
    {
     "data": {
      "image/png": "[encoded data removed]",
      "text/plain": [
       "<Figure size 432x288 with 1 Axes>"
      ]
     },
     "metadata": {
      "needs_background": "light"
     },
     "output_type": "display_data"
    },
    {
     "name": "stdout",
     "output_type": "stream",
     "text": [
      "AirTran 0.9787872226530537\n",
      "America West\n"
     ]
    },
    {
     "data": {
      "text/plain": [
       "<Figure size 432x288 with 0 Axes>"
      ]
     },
     "metadata": {},
     "output_type": "display_data"
    },
    {
     "data": {
      "image/png": "[encoded data removed]",
      "text/plain": [
       "<Figure size 432x288 with 1 Axes>"
      ]
     },
     "metadata": {
      "needs_background": "light"
     },
     "output_type": "display_data"
    },
    {
     "name": "stdout",
     "output_type": "stream",
     "text": [
      "America West 0.7551526583958992\n",
      "American\n"
     ]
    },
    {
     "data": {
      "text/plain": [
       "<Figure size 432x288 with 0 Axes>"
      ]
     },
     "metadata": {},
     "output_type": "display_data"
    },
    {
     "data": {
      "image/png": "[encoded data removed]",
      "text/plain": [
       "<Figure size 432x288 with 1 Axes>"
      ]
     },
     "metadata": {
      "needs_background": "light"
     },
     "output_type": "display_data"
    },
    {
     "name": "stdout",
     "output_type": "stream",
     "text": [
      "American 0.8930782096426261\n",
      "Continental\n"
     ]
    },
    {
     "data": {
      "text/plain": [
       "<Figure size 432x288 with 0 Axes>"
      ]
     },
     "metadata": {},
     "output_type": "display_data"
    },
    {
     "data": {
      "image/png": "[encoded data removed]",
      "text/plain": [
       "<Figure size 432x288 with 1 Axes>"
      ]
     },
     "metadata": {
      "needs_background": "light"
     },
     "output_type": "display_data"
    },
    {
     "name": "stdout",
     "output_type": "stream",
     "text": [
      "Continental 0.9243693557552968\n",
      "Delta\n"
     ]
    },
    {
     "data": {
      "text/plain": [
       "<Figure size 432x288 with 0 Axes>"
      ]
     },
     "metadata": {},
     "output_type": "display_data"
    },
    {
     "data": {
      "image/png": "[encoded data removed]",
      "text/plain": [
       "<Figure size 432x288 with 1 Axes>"
      ]
     },
     "metadata": {
      "needs_background": "light"
     },
     "output_type": "display_data"
    },
    {
     "name": "stdout",
     "output_type": "stream",
     "text": [
      "Delta 0.9657376650405471\n",
      "Frontier\n"
     ]
    },
    {
     "data": {
      "text/plain": [
       "<Figure size 432x288 with 0 Axes>"
      ]
     },
     "metadata": {},
     "output_type": "display_data"
    },
    {
     "data": {
      "image/png": "[encoded data removed]",
      "text/plain": [
       "<Figure size 432x288 with 1 Axes>"
      ]
     },
     "metadata": {
      "needs_background": "light"
     },
     "output_type": "display_data"
    },
    {
     "name": "stdout",
     "output_type": "stream",
     "text": [
      "Frontier 0.9582900672007376\n",
      "Northwest\n"
     ]
    },
    {
     "data": {
      "text/plain": [
       "<Figure size 432x288 with 0 Axes>"
      ]
     },
     "metadata": {},
     "output_type": "display_data"
    },
    {
     "data": {
      "image/png": "[encoded data removed]",
      "text/plain": [
       "<Figure size 432x288 with 1 Axes>"
      ]
     },
     "metadata": {
      "needs_background": "light"
     },
     "output_type": "display_data"
    },
    {
     "name": "stdout",
     "output_type": "stream",
     "text": [
      "Northwest 0.6642949432146991\n",
      "Southwest\n"
     ]
    },
    {
     "data": {
      "text/plain": [
       "<Figure size 432x288 with 0 Axes>"
      ]
     },
     "metadata": {},
     "output_type": "display_data"
    },
    {
     "data": {
      "image/png": "[encoded data removed]",
      "text/plain": [
       "<Figure size 432x288 with 1 Axes>"
      ]
     },
     "metadata": {
      "needs_background": "light"
     },
     "output_type": "display_data"
    },
    {
     "name": "stdout",
     "output_type": "stream",
     "text": [
      "Southwest 0.9922766709385163\n",
      "US Airways\n"
     ]
    },
    {
     "data": {
      "text/plain": [
       "<Figure size 432x288 with 0 Axes>"
      ]
     },
     "metadata": {},
     "output_type": "display_data"
    },
    {
     "data": {
      "image/png": "[encoded data removed]",
      "text/plain": [
       "<Figure size 432x288 with 1 Axes>"
      ]
     },
     "metadata": {
      "needs_background": "light"
     },
     "output_type": "display_data"
    },
    {
     "name": "stdout",
     "output_type": "stream",
     "text": [
      "US Airways 0.8976537585460472\n",
      "United\n"
     ]
    },
    {
     "data": {
      "text/plain": [
       "<Figure size 432x288 with 0 Axes>"
      ]
     },
     "metadata": {},
     "output_type": "display_data"
    },
    {
     "data": {
      "image/png": "[encoded data removed]",
      "text/plain": [
       "<Figure size 432x288 with 1 Axes>"
      ]
     },
     "metadata": {
      "needs_background": "light"
     },
     "output_type": "display_data"
    },
    {
     "name": "stdout",
     "output_type": "stream",
     "text": [
      "United 0.9268681652391577\n",
      "Virgin America\n"
     ]
    },
    {
     "data": {
      "text/plain": [
       "<Figure size 432x288 with 0 Axes>"
      ]
     },
     "metadata": {},
     "output_type": "display_data"
    },
    {
     "data": {
      "image/png": "[encoded data removed]",
      "text/plain": [
       "<Figure size 432x288 with 1 Axes>"
      ]
     },
     "metadata": {
      "needs_background": "light"
     },
     "output_type": "display_data"
    },
    {
     "name": "stdout",
     "output_type": "stream",
     "text": [
      "Virgin America 0.9714942241334457\n",
      "jetBlue\n"
     ]
    },
    {
     "data": {
      "text/plain": [
       "<Figure size 432x288 with 0 Axes>"
      ]
     },
     "metadata": {},
     "output_type": "display_data"
    },
    {
     "data": {
      "image/png": "[encoded data removed]",
      "text/plain": [
       "<Figure size 432x288 with 1 Axes>"
      ]
     },
     "metadata": {
      "needs_background": "light"
     },
     "output_type": "display_data"
    },
    {
     "name": "stdout",
     "output_type": "stream",
     "text": [
      "jetBlue 0.9965864989236491\n"
     ]
    }
   ],
   "source": [
    "#plotting autocoretion function for each airline shows corr at lag 1 for most airlines\n",
    "for j in w:\n",
    "    data=data02[data02.airline == j]\n",
    "    print(j)\n",
    "    fig=plt.figure()\n",
    "    plot_acf(data.loc[:, 'System Total Operating Revenue$ Billions'])\n",
    "    plt.show()\n",
    "    print(j,data.loc[:, 'System Total Operating Revenue$ Billions'].autocorr(lag=1))"
   ]
  },
  {
   "cell_type": "code",
   "execution_count": 13,
   "metadata": {},
   "outputs": [
    {
     "data": {
      "text/plain": [
       "<matplotlib.axes._subplots.AxesSubplot at 0x1f5d9fb96d8>"
      ]
     },
     "execution_count": 13,
     "metadata": {},
     "output_type": "execute_result"
    },
    {
     "data": {
      "image/png": "[encoded data removed]",
      "text/plain": [
       "<Figure size 432x288 with 1 Axes>"
      ]
     },
     "metadata": {
      "needs_background": "light"
     },
     "output_type": "display_data"
    }
   ],
   "source": [
    "#to account for autcorr, we do % change of variable coverting data to % change-for each airline\n",
    "q=[]\n",
    "for j in w:\n",
    "    data=data02[data02.airline == j] \n",
    "    data01=data.iloc[:, [2,4, 5,6, 7, 8, 9, 10, 11, 12, 13, 14] ].pct_change()\n",
    "    data01['Total System Load FactorPercentage']=data['Total System Load FactorPercentage']\n",
    "    data01['year']=data['year']\n",
    "    data01['airline']=data['airline']\n",
    "    q.append(data01)\n",
    "data03=pd.concat(q)\n",
    "data03.columns\n",
    "data03=data03.dropna()\n",
    "#when acf's are plotted again, correlation at lag 1, for % change variable eliminates\n",
    "#looking at the ditribution of revenue growth rate, as opoosed to revenue, while variance reduces, bi-modal nature of distribution, continues to exist\n",
    "sns.distplot(data03.loc[:, 'System Total Operating Revenue$ Billions'])"
   ]
  },
  {
   "cell_type": "code",
   "execution_count": 15,
   "metadata": {},
   "outputs": [],
   "source": [
    "#creating new features\n",
    "data03['usrevsq']=data03['us']**2\n",
    "data03['labsq']=data03['System Total Labor and Related Expenses$ Billions']**2\n",
    "data03['employeesq']=data03['Total Full-time Employee Equivalentsnan']**2\n",
    "q=[]\n",
    "df1=data03\n",
    "e=df1.corr()\n"
   ]
  },
  {
   "cell_type": "code",
   "execution_count": 24,
   "metadata": {},
   "outputs": [
    {
     "name": "stderr",
     "output_type": "stream",
     "text": [
      "C:\\Users\\Prerna Prakash Gupta\\Anaconda3\\lib\\site-packages\\ipykernel_launcher.py:6: SettingWithCopyWarning: \n",
      "A value is trying to be set on a copy of a slice from a DataFrame.\n",
      "Try using .loc[row_indexer,col_indexer] = value instead\n",
      "\n",
      "See the caveats in the documentation: http://pandas.pydata.org/pandas-docs/stable/user_guide/indexing.html#returning-a-view-versus-a-copy\n",
      "  \n"
     ]
    },
    {
     "data": {
      "image/png": "[encoded data removed]",
      "text/plain": [
       "<Figure size 432x288 with 1 Axes>"
      ]
     },
     "metadata": {
      "needs_background": "light"
     },
     "output_type": "display_data"
    },
    {
     "data": {
      "image/png": "[encoded data removed]",
      "text/plain": [
       "<Figure size 432x288 with 1 Axes>"
      ]
     },
     "metadata": {
      "needs_background": "light"
     },
     "output_type": "display_data"
    }
   ],
   "source": [
    "q=[]\n",
    "#demeaning  data for every panel and doing fixed effcts transformation\n",
    "for j in w:\n",
    "    data=data03[data03.airline == j] \n",
    "    for i in data.columns[0:12]:\n",
    "        data[i]=data[i]-data[i].mean()\n",
    "        q.append(data)\n",
    "data04=pd.concat(q)\n",
    "#standardising data for every panel and doing fixed effects transformation on growth of growth\n",
    "q=[]\n",
    "for j in w:\n",
    "    data=data02[data02.airline == j]    \n",
    "    scaled_df=data.drop(['airline', 'year'], axis=1)\n",
    "    names = scaled_df.columns\n",
    "    scaled_df = scaler.fit_transform(scaled_df)\n",
    "    scaled_df = pd.DataFrame(scaled_df, columns=names)\n",
    "    scaled_df =scaled_df.pct_change().dropna().pct_change().dropna()\n",
    "    scaled_df=scaled_df.replace(np.inf, np.nan)\n",
    "    scaled_df=scaled_df.dropna()  \n",
    "    d=pd.Series(scaled_df.loc[:, 'System Total Operating Revenue$ Billions'])\n",
    "    for i in d:\n",
    "        q.append(i)\n",
    "q=np.array(q)  \n",
    "q=q.flatten()\n",
    "q\n",
    "#post fixed effects transformation, dependent variable tends to be normal\n",
    "sns.distplot(q)\n",
    "import statsmodels\n",
    "import statsmodels.api as sm\n",
    "from scipy import stats\n",
    "#normality of dependent variable validated by Q-Q plot\n",
    "sm.qqplot(q, dist=stats.norm, line = 'r')\n",
    "plt.show()"
   ]
  },
  {
   "cell_type": "code",
   "execution_count": 25,
   "metadata": {},
   "outputs": [
    {
     "name": "stderr",
     "output_type": "stream",
     "text": [
      "C:\\Users\\Prerna Prakash Gupta\\Anaconda3\\lib\\site-packages\\numpy\\core\\fromnumeric.py:2389: FutureWarning: Method .ptp is deprecated and will be removed in a future version. Use numpy.ptp instead.\n",
      "  return ptp(axis=axis, out=out, **kwargs)\n"
     ]
    },
    {
     "name": "stdout",
     "output_type": "stream",
     "text": [
      "                                       OLS Regression Results                                       \n",
      "====================================================================================================\n",
      "Dep. Variable:     System Total Operating Revenue$ Billions   R-squared:                       0.900\n",
      "Model:                                                  OLS   Adj. R-squared:                  0.900\n",
      "Method:                                       Least Squares   F-statistic:                     4413.\n",
      "Date:                                      Mon, 16 Dec 2019   Prob (F-statistic):               0.00\n",
      "Time:                                              03:54:34   Log-Likelihood:                 3339.6\n",
      "No. Observations:                                      2460   AIC:                            -6667.\n",
      "Df Residuals:                                          2454   BIC:                            -6632.\n",
      "Df Model:                                                 5                                         \n",
      "Covariance Type:                                  nonrobust                                         \n",
      "==============================================================================================================================================\n",
      "                                                                                 coef    std err          t      P>|t|      [0.025      0.975]\n",
      "----------------------------------------------------------------------------------------------------------------------------------------------\n",
      "const                                                                         -0.0094      0.001     -7.310      0.000      -0.012      -0.007\n",
      "Total Fuel Expense$ Million                                                    0.1316      0.005     25.779      0.000       0.122       0.142\n",
      "System Total Operating Expense (ex-Fuel and ex-Transport Related)$ Million     0.6588      0.012     55.949      0.000       0.636       0.682\n",
      "System Passenger YieldCents per Revenue Passenger Mile                         0.3481      0.016     21.479      0.000       0.316       0.380\n",
      "us                                                                             1.1929      0.081     14.747      0.000       1.034       1.352\n",
      "employeesq                                                                     0.2200      0.006     39.252      0.000       0.209       0.231\n",
      "==============================================================================\n",
      "Omnibus:                       79.353   Durbin-Watson:                   1.668\n",
      "Prob(Omnibus):                  0.000   Jarque-Bera (JB):              122.151\n",
      "Skew:                           0.304   Prob(JB):                     2.99e-27\n",
      "Kurtosis:                       3.907   Cond. No.                         64.5\n",
      "==============================================================================\n",
      "\n",
      "Warnings:\n",
      "[1] Standard Errors assume that the covariance matrix of the errors is correctly specified.\n"
     ]
    }
   ],
   "source": [
    "#running fixed effects regression (OLS on demenaed within transformation variables) on revenue growth and within transformation on independent variables\n",
    "dependent=data04.iloc[:, 0]\n",
    "independents = data04.iloc[:, [   4, 6, 7, 10,  17]]\n",
    "# We have to manually add the intercepts\n",
    "independents_withconst = sm.add_constant(independents)\n",
    "model = sm.OLS(dependent, independents_withconst)\n",
    "results = model.fit()\n",
    "results.predict()\n",
    "print (results.summary())"
   ]
  },
  {
   "cell_type": "code",
   "execution_count": 27,
   "metadata": {},
   "outputs": [
    {
     "data": {
      "image/png": "[encoded data removed]",
      "text/plain": [
       "<Figure size 432x288 with 1 Axes>"
      ]
     },
     "metadata": {
      "needs_background": "light"
     },
     "output_type": "display_data"
    },
    {
     "data": {
      "image/png": "[encoded data removed]",
      "text/plain": [
       "<Figure size 432x288 with 1 Axes>"
      ]
     },
     "metadata": {
      "needs_background": "light"
     },
     "output_type": "display_data"
    },
    {
     "name": "stdout",
     "output_type": "stream",
     "text": [
      "{'LM Statistic': 51.521315341909215, 'LM-Test p-value': 1.7369419562096125e-10, 'F-Statistic': 10.503296539021916, 'F-Test p-value': 5.409203836881087e-10}\n",
      "{'LM Statistic': 546.4248779666372, 'LM-Test p-value': 5.352765250012553e-103, 'F-Statistic': 34.823045670254906, 'F-Test p-value': 2.1271005246475144e-117}\n"
     ]
    }
   ],
   "source": [
    "\n",
    "#MODEL VALIDATION\n",
    "#VIF shows multicolinearity wasn't a problem in the model\n",
    "X=independents_withconst\n",
    "vif = pd.DataFrame()\n",
    "vif[\"VIF Factor\"] = [variance_inflation_factor(X.values, i) for i in range(X.shape[1])]\n",
    "vif[\"features\"] = X.columns\n",
    "vif.round(1)\n",
    "\n",
    "Y_pred = results.predict(independents_withconst)\n",
    "residual = dependent-Y_pred\n",
    "residual\n",
    "#studying the distribution of residuals validated normality, homoskedastoicity and no autocorelation\n",
    "plt.scatter(Y_pred, residual)\n",
    "plt.xlim(-0.50,  0.5)\n",
    "sm.qqplot(residual, dist=stats.norm, line = 'r')\n",
    "plt.show()\n",
    "\n",
    "import statsmodels.stats.api as sms\n",
    "from statsmodels.compat import lzip\n",
    "import numpy as np\n",
    "import matplotlib.pyplot as plt\n",
    "import statsmodels.api as sm\n",
    "from statsmodels.formula.api import ols\n",
    "from statsmodels.stats.diagnostic import het_breuschpagan\n",
    "from statsmodels.stats.diagnostic import het_white\n",
    "import pandas as pd\n",
    "import statsmodels.api as sm\n",
    "from statsmodels.formula.api import ols\n",
    "#the breuschpagan test and white test, failed to reject the null of homoskedsticity of residuals\n",
    "white_test = het_white(residual, results.model.exog)\n",
    "bp_test = het_breuschpagan(residual, independents )\n",
    "labels = ['LM Statistic', 'LM-Test p-value', 'F-Statistic', 'F-Test p-value']\n",
    "print(dict(zip(labels, bp_test)))\n",
    "print(dict(zip(labels, white_test)))\n",
    "\n"
   ]
  },
  {
   "cell_type": "code",
   "execution_count": null,
   "metadata": {},
   "outputs": [],
   "source": []
  }
 ],
 "metadata": {
  "kernelspec": {
   "display_name": "Python 3",
   "language": "python",
   "name": "python3"
  },
  "language_info": {
   "codemirror_mode": {
    "name": "ipython",
    "version": 3
   },
   "file_extension": ".py",
   "mimetype": "text/x-python",
   "name": "python",
   "nbconvert_exporter": "python",
   "pygments_lexer": "ipython3",
   "version": "3.7.3"
  }
 },
 "nbformat": 4,
 "nbformat_minor": 2
}
